import unittest
import torch
import pandas as pd
from sklearn.preprocessing import MinMaxScaler
from sklearn.model_selection import train_test_split

import torch.nn as nn
import torch.optim as optim
from soal2 import model  # Import the model from soal2.ipynb

class TestModelTraining(unittest.TestCase):
    def setUp(self):
        # Load the dataset

        data = pd.read_csv('teleCust1000t.csv')
        scaler = MinMaxScaler()
        scaled_data = scaler.fit_transform(data.iloc[:, :-1])
        labels = data.iloc[:, -1]
        scaled_data = pd.DataFrame(scaled_data, columns=data.columns[:-1])

        X_train, X_temp, y_train, y_temp = train_test_split(scaled_data, labels, test_size=0.3, random_state=73)
        X_val, X_test, y_val, y_test = train_test_split(X_temp, y_temp, test_size=0.5, random_state=73)

        self.X_train = torch.tensor(X_train.values, dtype=torch.float32)
        self.y_train = torch.tensor(y_train.values, dtype=torch.float32).unsqueeze(1)

    def test_model_training(self):
        optimizer = optim.Adam(model.parameters(), lr=1e-3)
        criterion = nn.MSELoss()

        for epoch in range(10):
            outputs = model(self.X_train)
            loss = criterion(outputs, self.y_train)
            optimizer.zero_grad()
            loss.backward()
            optimizer.step()

        self.assertTrue(hasattr(model, 'parameters'))
        self.assertEqual(outputs.shape, self.y_train.shape)

if __name__ == '__main__':
    unittest.main(argv=[''], exit=False)